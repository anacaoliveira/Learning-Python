{
 "cells": [
  {
   "cell_type": "markdown",
   "metadata": {},
   "source": [
    "\n",
    "# Chapter 1 - How to Run Programs"
   ]
  },
  {
   "cell_type": "markdown",
   "metadata": {},
   "source": [
    "# Chapter 2 - Types and Operators"
   ]
  },
  {
   "cell_type": "markdown",
   "metadata": {},
   "source": [
    "## Exercises "
   ]
  },
  {
   "cell_type": "code",
   "execution_count": null,
   "metadata": {},
   "outputs": [],
   "source": [
    "# Creating a list and testing its proprieties;\n",
    "\n",
    "x = [1 , 3, 7]\n",
    "#id(x)\n",
    "print(x[1])\n",
    "\n",
    "y = [[10,15],[20,25]]\n",
    "y1 = y[:]\n",
    "id(y1)\n"
   ]
  },
  {
   "cell_type": "markdown",
   "metadata": {},
   "source": [
    "(Exercise 1) \"Try explaining what is happening in each case.\""
   ]
  },
  {
   "cell_type": "code",
   "execution_count": null,
   "metadata": {},
   "outputs": [],
   "source": [
    "#STRINGS\n",
    "S = \"ham\" #Assigning value to the variable S;\n",
    "print(\"eggs\" + S) #Concatenating strings\n",
    "\n",
    "print(S * 5)  # Repeats the string 5 times\n",
    "\n",
    "print(S[:0]) #Slicing the string, remember String[include:exclude]!\n",
    "\n",
    "drSeuss = \"Green %s and %s\" %(\"eggs\", S) #Using %s as a placeholder, it is important to remember that \"%s converts any object to its string representation\" \n",
    "print(drSeuss) \n",
    "\n",
    "\n",
    "#TUPLES\n",
    "print(('x',)[0]) #Slices the tuple and picks the first element\n",
    "\n",
    "print(('x','y')[1]) #Slices the tuple and picks the second element\n",
    "\n",
    "#LISTS\n",
    "L = [1,2,3] + [4,5,6]\n",
    "print(L[:])\n",
    "\n",
    "print(([1,2,3] + [4,5,6])[2:4])\n",
    "\n",
    "print((L[2],L[3]))\n",
    "\n",
    "L.reverse() \n",
    "print(L)\n",
    "\n",
    "L.sort()\n",
    "print(L)\n",
    "# The methods above do not return the modified list, it modifies the original list.\n",
    "\n",
    "print(L.index(4))\n",
    "\n",
    "#DICTIONARY\n",
    "print({'a':1,'b':2}['b']) # Calling out the dictionary value by the key\n",
    "\n",
    "D = {'m':1,'n':2,'o':3} #Creates dictionary\n",
    "\n",
    "D['p'] = 0\n",
    "\n",
    "print(D['m']+D['p']) #Sum the values \n",
    " \n",
    "D[(1,2,3)] = 4 # Adds a new key (1,2,3) and attributes the value 4 to it.\n",
    "\n",
    "print(D.keys()); print(D.values())\n",
    "\n",
    "if (1,2,3) in D:\n",
    "\tprint(\"D does have (1,2,3) as a key\") \n",
    "else:\n",
    "\tprint(\"Python 3.x removed has_key()\")"
   ]
  },
  {
   "cell_type": "markdown",
   "metadata": {},
   "source": [
    "# Chapter 3: Basic Statements"
   ]
  },
  {
   "cell_type": "markdown",
   "metadata": {},
   "source": [
    "## For Loops"
   ]
  },
  {
   "cell_type": "markdown",
   "metadata": {},
   "source": [
    "Python's For loop is an example of Iterator-based loop. \n",
    "\"It step through the items in a sequence object.\"\n",
    "\n",
    "Syntax: \n",
    "for <target> in <sequence>:\n",
    "    <statements>\n",
    "else:\n",
    "    <statements>"
   ]
  },
  {
   "cell_type": "markdown",
   "metadata": {},
   "source": [
    "### Range()\n",
    "Range() is a funtion that iterates over the defined range, creating a lists of successively higher integers.\n",
    "\n",
    "Range(n) means it will create a list starting from zero to n-1; We can also write it as: range(begin,end) and range(begin,end,step)."
   ]
  },
  {
   "cell_type": "code",
   "execution_count": null,
   "metadata": {},
   "outputs": [],
   "source": [
    "#Here range is being used for repeating an action a specific number of times. \n",
    "\n",
    "for i in range(7):\n",
    "    print(i, \"Carneirinhos\")"
   ]
  },
  {
   "cell_type": "markdown",
   "metadata": {},
   "source": [
    "Examples of For Loops from (https://www.python-course.eu/python3_for_loop.php)"
   ]
  },
  {
   "cell_type": "code",
   "execution_count": null,
   "metadata": {},
   "outputs": [],
   "source": [
    "#Example of how BREAK statements will exit the loop, jumps the Else statement and the program will read the first statement after the loop. \n",
    "edibles = [\"ham\", \"spam\",\"eggs\",\"nuts\"]\n",
    "for food in edibles:\n",
    "    if food == \"spam\":\n",
    "        print(\"No more spam please!\")\n",
    "        break\n",
    "    print(\"Great, delicious \" + food)\n",
    "else:\n",
    "    print(\"I am so glad: No spam!\")\n",
    "print(\"Finally, I finished stuffing myself\")"
   ]
  },
  {
   "cell_type": "code",
   "execution_count": null,
   "metadata": {},
   "outputs": [],
   "source": [
    "#Example of the use of CONTINUE statement, here the code will continue inside and will start the next iteration by checking the condition again with the next object in the list. \n",
    "edibles = [\"ham\", \"spam\", \"eggs\",\"nuts\"]\n",
    "for food in edibles:\n",
    "    if food == \"spam\":\n",
    "        print(\"No more spam please!\")\n",
    "        continue\n",
    "    print(\"Great, delicious \" + food)\n",
    "else:\n",
    "    print(\"I am so glad: No spam!\")\n",
    "print(\"Finally, I finished stuffing myself\")"
   ]
  },
  {
   "cell_type": "markdown",
   "metadata": {},
   "source": [
    "## Exercises"
   ]
  },
  {
   "cell_type": "markdown",
   "metadata": {},
   "source": [
    "1. Coding basics loops\n",
    "\n",
    "\"Given a string of length one, return an integer representing the Unicode code point of the character when the argument is a unicode object, or the value of the byte when the argument is an 8-bit string. \" (https://www.geeksforgeeks.org/ord-function-python/) "
   ]
  },
  {
   "cell_type": "code",
   "execution_count": 8,
   "metadata": {},
   "outputs": [
    {
     "name": "stdout",
     "output_type": "stream",
     "text": [
      "99\n",
      "111\n",
      "100\n",
      "105\n",
      "110\n",
      "103\n"
     ]
    }
   ],
   "source": [
    "#a \n",
    "S = \"coding\"\n",
    "for chrt in S:\n",
    "    print(ord(chrt))"
   ]
  },
  {
   "cell_type": "code",
   "execution_count": 15,
   "metadata": {},
   "outputs": [
    {
     "name": "stdout",
     "output_type": "stream",
     "text": [
      "628\n"
     ]
    }
   ],
   "source": [
    "#b \n",
    "S = \"coding\"\n",
    "value = 0 \n",
    "\n",
    "for chrt in S:\n",
    "    value = value + ord(chrt) \n",
    "    \n",
    "print(value) "
   ]
  },
  {
   "cell_type": "code",
   "execution_count": 17,
   "metadata": {},
   "outputs": [
    {
     "name": "stdout",
     "output_type": "stream",
     "text": [
      "99\n",
      "210\n",
      "310\n",
      "415\n",
      "525\n",
      "628\n"
     ]
    }
   ],
   "source": [
    "# The print() inside the loop will be iterated with all the rest of statement, so it'll print a value for every iteration. \n",
    "S = \"coding\"\n",
    "value = 0 \n",
    "\n",
    "for chrt in S:\n",
    "    value = value + ord(chrt) \n",
    "    print(value) "
   ]
  },
  {
   "cell_type": "code",
   "execution_count": null,
   "metadata": {},
   "outputs": [],
   "source": []
  },
  {
   "cell_type": "code",
   "execution_count": null,
   "metadata": {},
   "outputs": [],
   "source": []
  }
 ],
 "metadata": {
  "colab": {
   "name": "Untitled0.ipynb",
   "provenance": [],
   "version": "0.3.2"
  },
  "kernelspec": {
   "display_name": "Python 3",
   "language": "python",
   "name": "python3"
  },
  "language_info": {
   "codemirror_mode": {
    "name": "ipython",
    "version": 3
   },
   "file_extension": ".py",
   "mimetype": "text/x-python",
   "name": "python",
   "nbconvert_exporter": "python",
   "pygments_lexer": "ipython3",
   "version": "3.7.1"
  }
 },
 "nbformat": 4,
 "nbformat_minor": 1
}
