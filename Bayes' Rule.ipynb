{
 "cells": [
  {
   "cell_type": "markdown",
   "metadata": {},
   "source": [
    "# Bayes' Rule"
   ]
  },
  {
   "cell_type": "markdown",
   "metadata": {},
   "source": [
    "The use of conditional probabilities and the Bayes'rule are essential methods to reducing the uncertainty of the date measured by system's sensors.  "
   ]
  },
  {
   "cell_type": "markdown",
   "metadata": {},
   "source": [
    "(Udacity) \"The Bayes' rule allow us to improve a **prior** probability by incorporating **new evidence**,from observed data, and forming a new **posterior** probability.\"\n",
    "\n",
    "Another way to put it is: \"The probability that a belief is true given new evidence equals the probability that the belief is true regardless of that evidence times the probability that the evidence is true given that the belief is true divided by the probability that the evidence is true regardless of whether the belief is true.\"\n",
    "\n",
    "$$ P(A|B) = \\frac{P(B|A)\\cdot P(A)}{P(B)}$$\n",
    "\n",
    "Considering: \n",
    "- $P(A)$: Probability of event A.\n",
    "- $P(B)$: Probability of event B.\n",
    "- $P(A|B)$: Probability of event A given that event B happened.\n",
    "- $P(B|A)$: Probability of event B given that event A happened. \n",
    "\n",
    "According to Udacity, the steps to use the Bayes' rule are:\n",
    "\n",
    "**1 - Take into consideration the Prior Probabilities**\n",
    "- \"How likely is a hypothesis, or specific event, H to happen?\"\n",
    "- For a given hypothesis H, we are given the probability P(H) of the event happening and then obtain its complement P(¬A), which means the probability of the event A not happening.\n"
   ]
  },
  {
   "cell_type": "code",
   "execution_count": 27,
   "metadata": {},
   "outputs": [
    {
     "name": "stdout",
     "output_type": "stream",
     "text": [
      "Your function returned that the complement of 0.2 is: 0.8\n"
     ]
    }
   ],
   "source": [
    "## TODO: Change the value of complement \n",
    "## So that it calculates the complement of any variable p_A\n",
    "\n",
    "def complement(p_A):\n",
    "    p_notA = 1 - p_A\n",
    "    \n",
    "    return p_notA\n",
    "\n",
    "## TODO: Change this test value and test out your code!\n",
    "p_test = 0.2\n",
    "\n",
    "## Running your code with the p_test value\n",
    "complement_test = complement(p_test)\n",
    "print('Your function returned that the complement of '+ str(p_test) +' is: '+str(complement_test))"
   ]
  },
  {
   "cell_type": "markdown",
   "metadata": {},
   "source": [
    "**2 - Conditional Probabilities**"
   ]
  },
  {
   "cell_type": "markdown",
   "metadata": {},
   "source": [
    "**3 - Joint Probabilities**\n",
    "- Calculate the four joint probabilities of the prior and the test probabilities:"
   ]
  },
  {
   "cell_type": "code",
   "execution_count": 26,
   "metadata": {},
   "outputs": [
    {
     "name": "stdout",
     "output_type": "stream",
     "text": [
      "Your function returned that the joint probability is: 0.08000000000000002\n"
     ]
    }
   ],
   "source": [
    "## Complete this joint function\n",
    "def joint(p_A, p_B):\n",
    "    \n",
    "    ## TODO: Change the value of joint_p\n",
    "    ## so that it calculates the joint probability of \n",
    "    ## any variables p_A, p_B, WHEN THOSE PROBABILITIES\n",
    "    ## ARE INDEPENDENT (this code wouldn't work \n",
    "    ## for probabilities that depend on each other).\n",
    "    joint = p_A * p_B\n",
    "    \n",
    "    return joint\n",
    "\n",
    "    \n",
    "## TODO: Test out your code\n",
    "## Define test probabilities and write print statements to test \n",
    "## the output of your function!\n",
    "p_a_test = 0.2\n",
    "p_b_test = 0.4\n",
    "j = joint(p_a_test, p_b_test)\n",
    "\n",
    "print('Your function returned that the joint probability is: '+str(j))"
   ]
  },
  {
   "cell_type": "markdown",
   "metadata": {},
   "source": [
    "**4 - Total Probabilities**"
   ]
  },
  {
   "cell_type": "code",
   "execution_count": 28,
   "metadata": {},
   "outputs": [
    {
     "name": "stdout",
     "output_type": "stream",
     "text": [
      "Your function returned that the total probability is: 0.6\n",
      "P(disease given pos) = 0.2\n",
      "P(disease and not pos) = 0.8\n"
     ]
    }
   ],
   "source": [
    "def total_probability(p_disease, p_pos_given_disease, p_pos_given_no_disease):\n",
    "    \n",
    "    ## TODO: Change the value of total so that it calculates the \n",
    "    ## total probability of a positive test result\n",
    "    ## You may use other variable in this function as well as long\n",
    "    ## as total is correct\n",
    "    \n",
    "    total = (p_pos_given_disease * p_disease) + (p_pos_given_no_disease * (1 - p_disease))\n",
    "\n",
    "    return total\n",
    "\n",
    "    \n",
    "## TODO: Change these test values, run your function, and write print statements to test your code\n",
    "## Answer the question: what is the probability of a positive test result given the following values?\n",
    "p_disease = 0.2\n",
    "p_pos_given_disease= 0.6\n",
    "p_pos_given_no_disease= 0.6\n",
    "\n",
    "tot = total_probability(p_disease, p_pos_given_disease, p_pos_given_no_disease)\n",
    "print('Your function returned that the total probability is: '+str(tot))\n",
    "\n",
    "p_pos_and_disease = p_pos_given_disease * p_disease\n",
    "p_pos_and_no_disease = p_pos_given_no_disease * (1 - p_disease)\n",
    "\n",
    "#And the final probabilities obtained by the Bayes' Rule\n",
    "print( \"P(disease given pos) = \" + str(p_pos_and_disease / tot))\n",
    "print( \"P(disease and not pos) = \" + str(p_pos_and_no_disease / tot))"
   ]
  }
 ],
 "metadata": {
  "kernelspec": {
   "display_name": "Python 3",
   "language": "python",
   "name": "python3"
  },
  "language_info": {
   "codemirror_mode": {
    "name": "ipython",
    "version": 3
   },
   "file_extension": ".py",
   "mimetype": "text/x-python",
   "name": "python",
   "nbconvert_exporter": "python",
   "pygments_lexer": "ipython3",
   "version": "3.7.6"
  }
 },
 "nbformat": 4,
 "nbformat_minor": 4
}
